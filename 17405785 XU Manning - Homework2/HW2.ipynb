{
 "cells": [
  {
   "cell_type": "code",
   "execution_count": 1,
   "metadata": {},
   "outputs": [],
   "source": [
    "import requests\n",
    "from bs4 import BeautifulSoup\n",
    "import csv\n",
    "r=requests.get('https://movie.douban.com/top250')\n",
    "mypage= r.text"
   ]
  },
  {
   "cell_type": "code",
   "execution_count": 2,
   "metadata": {},
   "outputs": [],
   "source": [
    "page_next=[]\n",
    "url = 'https://movie.douban.com/top250'\n",
    "for q in [-25,0,25,50,75,100,125,150,175,200,225]:\n",
    "    page_number=str(q + 25)\n",
    "    url_next=url+ \"?start=\" + page_number + '&filter='\n",
    "    page_next.append(url_next)"
   ]
  },
  {
   "cell_type": "code",
   "execution_count": 3,
   "metadata": {},
   "outputs": [],
   "source": [
    "cn_name = []\n",
    "en_name = []\n",
    "comment_number = []\n",
    "rating = []\n",
    "\n",
    "data = []\n",
    "\n",
    "actors = []\n",
    "year = []\n",
    "area= []\n",
    "types = []\n",
    "genre = []\n",
    "location = []\n",
    "director  = []"
   ]
  },
  {
   "cell_type": "code",
   "execution_count": 4,
   "metadata": {},
   "outputs": [],
   "source": [
    "for page in page_next:\n",
    "    l1 = requests.get(page).text\n",
    "    mypage = BeautifulSoup(l1,'html.parser')\n",
    "    mylis = mypage.find('ol', attrs={'class': 'grid_view'}).find_all('li')\n",
    "    for li in mylis:\n",
    "        myspans = li.find('div', attrs={'class': 'hd'}).find_all('span')\n",
    "        cn_name.append(myspans[0].text)\n",
    "        en_name.append(myspans[1].text[3:])\n",
    "        comment_number.append(li.find('div', attrs={'class': 'star'}).find_all('span')[3].text[:-3])\n",
    "        rating.append(li.find('span', attrs={'class': 'rating_num'}).text)\n",
    "        directors = li.find('p').text.strip()\n",
    "        \n",
    "        staff = directors.replace(u'\\xa0', u' ')\n",
    "        idx_director = staff.find('导演:')\n",
    "        idx_actors = staff.find('主')\n",
    "        if len(staff[idx_director:idx_actors]) < 61:\n",
    "            director.append(staff[idx_director:idx_actors])\n",
    "        else:\n",
    "            director.append(staff[idx_director:62])\n",
    "        parts = staff.split('/')\n",
    "        year.append(parts[-3].split()[-1])\n",
    "        area.append(parts[-2])\n",
    "        types.append(parts[-1])\n"
   ]
  },
  {
   "cell_type": "code",
   "execution_count": 5,
   "metadata": {},
   "outputs": [],
   "source": [
    "with open('doubanmovie.csv','w') as f:\n",
    "     writers = csv.writer(f)\n",
    "     header = ['cn_name','alias','rating' , 'comment_number' , 'director','year','area','types']\n",
    "     writers.writerow(header)\n",
    "     writers.writerows(zip(cn_name,en_name,rating,comment_number,director,year,area,types))\n"
   ]
  }
 ],
 "metadata": {
  "kernelspec": {
   "display_name": "Python 3",
   "language": "python",
   "name": "python3"
  },
  "language_info": {
   "codemirror_mode": {
    "name": "ipython",
    "version": 3
   },
   "file_extension": ".py",
   "mimetype": "text/x-python",
   "name": "python",
   "nbconvert_exporter": "python",
   "pygments_lexer": "ipython3",
   "version": "3.6.4"
  }
 },
 "nbformat": 4,
 "nbformat_minor": 2
}
