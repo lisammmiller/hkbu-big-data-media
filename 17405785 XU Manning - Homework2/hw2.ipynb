{
 "cells": [
  {
   "cell_type": "code",
   "execution_count": null,
   "metadata": {},
   "outputs": [],
   "source": [
    "import requests"
   ]
  },
  {
   "cell_type": "code",
   "execution_count": null,
   "metadata": {},
   "outputs": [],
   "source": [
    "import bs4"
   ]
  },
  {
   "cell_type": "code",
   "execution_count": null,
   "metadata": {},
   "outputs": [],
   "source": [
    "import csv"
   ]
  },
  {
   "cell_type": "code",
   "execution_count": null,
   "metadata": {},
   "outputs": [],
   "source": [
    "r = requests.get('https://movie.douban.com/top250')\n",
    "mypage = bs4.BeautifulSoup(r.text)\n",
    "cn_name = []\n",
    "myhds = mypage.find_all('div', attrs={'class': 'hd'})\n",
    "for myhd in myhds:\n",
    "    myspan = myhd.find_all('span')\n",
    "    cn_name.append(myspan[0].text)"
   ]
  },
  {
   "cell_type": "code",
   "execution_count": null,
   "metadata": {},
   "outputs": [],
   "source": [
    "cn_name"
   ]
  },
  {
   "cell_type": "code",
   "execution_count": null,
   "metadata": {},
   "outputs": [],
   "source": [
    "mycomment = mypage.find_all('div', attrs={'class': 'star'})\n",
    "mygrade = []\n",
    "for comment in mycomment:\n",
    "    b = comment.find('span',attrs = {'class':'rating_num'}).text\n",
    "    mygrade.append(b)"
   ]
  },
  {
   "cell_type": "code",
   "execution_count": null,
   "metadata": {},
   "outputs": [],
   "source": [
    "b"
   ]
  },
  {
   "cell_type": "code",
   "execution_count": null,
   "metadata": {},
   "outputs": [],
   "source": [
    "mygrade"
   ]
  },
  {
   "cell_type": "code",
   "execution_count": 199,
   "metadata": {},
   "outputs": [],
   "source": [
    "doubanmovie=[]"
   ]
  },
  {
   "cell_type": "code",
   "execution_count": 200,
   "metadata": {},
   "outputs": [
    {
     "data": {
      "text/plain": [
       "[['肖申克的救赎', '9.6'],\n",
       " ['霸王别姬', '9.5'],\n",
       " ['这个杀手不太冷', '9.4'],\n",
       " ['阿甘正传', '9.4'],\n",
       " ['美丽人生', '9.5'],\n",
       " ['千与千寻', '9.2'],\n",
       " ['泰坦尼克号', '9.2'],\n",
       " ['辛德勒的名单', '9.4'],\n",
       " ['盗梦空间', '9.3'],\n",
       " ['机器人总动员', '9.3']]"
      ]
     },
     "execution_count": 200,
     "metadata": {},
     "output_type": "execute_result"
    }
   ],
   "source": [
    "for i in range(0,10):\n",
    "    doubanmovie.append([cn_name[i],mygrade[i]])\n",
    "    \n",
    "doubanmovie"
   ]
  },
  {
   "cell_type": "code",
   "execution_count": 202,
   "metadata": {},
   "outputs": [],
   "source": [
    "import csv\n",
    "with open('mymovies.csv', 'w', newline='') as csvfile:\n",
    "    spamwriter = csv.writer(csvfile, delimiter=',',\n",
    "                            quotechar='\"', quoting=csv.QUOTE_MINIMAL)\n",
    "    spamwriter.writerows(doubanmovie)"
   ]
  }
 ],
 "metadata": {
  "kernelspec": {
   "display_name": "Python 3",
   "language": "python",
   "name": "python3"
  },
  "language_info": {
   "codemirror_mode": {
    "name": "ipython",
    "version": 3
   },
   "file_extension": ".py",
   "mimetype": "text/x-python",
   "name": "python",
   "nbconvert_exporter": "python",
   "pygments_lexer": "ipython3",
   "version": "3.6.4"
  }
 },
 "nbformat": 4,
 "nbformat_minor": 2
}
